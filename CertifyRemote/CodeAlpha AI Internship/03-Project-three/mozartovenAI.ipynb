{
  "cells": [
    {
      "cell_type": "code",
      "execution_count": null,
      "metadata": {
        "colab": {
          "base_uri": "https://localhost:8080/",
          "height": 1000
        },
        "collapsed": true,
        "id": "jsCMb3WwvMsG",
        "outputId": "5d8f47b9-d560-4746-df99-6b77f70182cc"
      },
      "outputs": [],
      "source": [
        "# Install necessary libraries\n",
        "!pip install numpy pandas tensorflow music21 gradio\n",
        "\n",
        "# Import libraries\n",
        "import numpy as np\n",
        "import music21\n",
        "import glob\n",
        "import pickle\n",
        "from google.colab import files\n",
        "from collections import Counter\n",
        "from tensorflow.keras.utils import to_categorical\n",
        "from sklearn.model_selection import train_test_split\n",
        "\n",
        "# Step 1: Upload MIDI files\n",
        "uploaded = files.upload()\n",
        "\n",
        "# Step 2: Check uploaded files\n",
        "import os\n",
        "print(\"Uploaded files:\", os.listdir())\n",
        "\n",
        "# Step 3: Load MIDI files\n",
        "midi_files = glob.glob('*.mid')  # Adjusted to match uploaded MIDI files\n",
        "print(\"MIDI files found:\", midi_files)\n",
        "\n",
        "# Step 4: Helper function to parse MIDI files\n",
        "def parse_midi(file):\n",
        "    notes = []\n",
        "    try:\n",
        "        midi = music21.converter.parse(file)\n",
        "        parts = music21.instrument.partitionByInstrument(midi)\n",
        "        if parts:  # file has instrument parts\n",
        "            notes_to_parse = parts.parts[0].recurse()\n",
        "        else:  # file has notes in a flat structure\n",
        "            notes_to_parse = midi.flat.notes\n",
        "\n",
        "        for element in notes_to_parse:\n",
        "            if isinstance(element, music21.note.Note):\n",
        "                notes.append(str(element.pitch))\n",
        "            elif isinstance(element, music21.chord.Chord):\n",
        "                notes.append('.'.join(str(n) for n in element.normalOrder))\n",
        "    except Exception as e:\n",
        "        print(f\"Error parsing {file}: {e}\")\n",
        "\n",
        "    print(f\"Notes parsed from {file}: {len(notes)}\")\n",
        "    return notes\n",
        "\n",
        "# Step 5: Parse all MIDI files\n",
        "all_notes = []\n",
        "for file in midi_files:\n",
        "    notes = parse_midi(file)\n",
        "    all_notes.extend(notes)\n",
        "\n",
        "# Check if notes were extracted\n",
        "if len(all_notes) == 0:\n",
        "    print(\"No notes were extracted. Please check your MIDI files.\")\n",
        "else:\n",
        "    print(\"Total notes extracted:\", len(all_notes))\n",
        "\n",
        "# Step 6: Save all notes to a file for future use\n",
        "with open('all_notes.pkl', 'wb') as f:\n",
        "    pickle.dump(all_notes, f)\n",
        "\n",
        "# Step 7: Load saved notes\n",
        "with open('all_notes.pkl', 'rb') as f:\n",
        "    all_notes = pickle.load(f)\n",
        "\n",
        "# Step 8: Unique notes and mapping to integers\n",
        "unique_notes = list(set(all_notes))\n",
        "note_to_int = {note: number for number, note in enumerate(unique_notes)}\n",
        "\n",
        "# Step 9: Prepare input sequences and corresponding outputs\n",
        "SEQUENCE_LENGTH = 100\n",
        "network_input = []\n",
        "network_output = []\n",
        "\n",
        "for i in range(0, len(all_notes) - SEQUENCE_LENGTH):\n",
        "    sequence_in = all_notes[i:i + SEQUENCE_LENGTH]\n",
        "    sequence_out = all_notes[i + SEQUENCE_LENGTH]\n",
        "    network_input.append([note_to_int[note] for note in sequence_in])\n",
        "    network_output.append(note_to_int[sequence_out])\n",
        "\n",
        "# Reshape and normalize input\n",
        "if network_input and network_output:  # Check if there are valid inputs\n",
        "    network_input = np.reshape(network_input, (len(network_input), SEQUENCE_LENGTH, 1))\n",
        "    network_input = network_input / len(unique_notes)  # Normalize input\n",
        "    network_output = to_categorical(network_output)\n",
        "\n",
        "    # Step 10: Split data into training and testing sets\n",
        "    X_train, X_test, y_train, y_test = train_test_split(network_input, network_output, test_size=0.2)\n",
        "else:\n",
        "    print(\"Error: network_input or network_output is empty. Check your MIDI files and parsing.\")\n"
      ]
    },
    {
      "cell_type": "code",
      "execution_count": 43,
      "metadata": {
        "colab": {
          "base_uri": "https://localhost:8080/",
          "height": 524
        },
        "id": "fKa5DPGtvxaD",
        "outputId": "eea72ef9-9da3-4331-d231-e3fc6d3a6fee"
      },
      "outputs": [
        {
          "data": {
            "text/html": [
              "<pre style=\"white-space:pre;overflow-x:auto;line-height:normal;font-family:Menlo,'DejaVu Sans Mono',consolas,'Courier New',monospace\"><span style=\"font-weight: bold\">Model: \"sequential_2\"</span>\n",
              "</pre>\n"
            ],
            "text/plain": [
              "\u001b[1mModel: \"sequential_2\"\u001b[0m\n"
            ]
          },
          "metadata": {},
          "output_type": "display_data"
        },
        {
          "data": {
            "text/html": [
              "<pre style=\"white-space:pre;overflow-x:auto;line-height:normal;font-family:Menlo,'DejaVu Sans Mono',consolas,'Courier New',monospace\">┏━━━━━━━━━━━━━━━━━━━━━━━━━━━━━━━━━━━━━━┳━━━━━━━━━━━━━━━━━━━━━━━━━━━━━┳━━━━━━━━━━━━━━━━━┓\n",
              "┃<span style=\"font-weight: bold\"> Layer (type)                         </span>┃<span style=\"font-weight: bold\"> Output Shape                </span>┃<span style=\"font-weight: bold\">         Param # </span>┃\n",
              "┡━━━━━━━━━━━━━━━━━━━━━━━━━━━━━━━━━━━━━━╇━━━━━━━━━━━━━━━━━━━━━━━━━━━━━╇━━━━━━━━━━━━━━━━━┩\n",
              "│ lstm_5 (<span style=\"color: #0087ff; text-decoration-color: #0087ff\">LSTM</span>)                        │ (<span style=\"color: #00d7ff; text-decoration-color: #00d7ff\">None</span>, <span style=\"color: #00af00; text-decoration-color: #00af00\">100</span>, <span style=\"color: #00af00; text-decoration-color: #00af00\">512</span>)            │       <span style=\"color: #00af00; text-decoration-color: #00af00\">1,052,672</span> │\n",
              "├──────────────────────────────────────┼─────────────────────────────┼─────────────────┤\n",
              "│ dropout_6 (<span style=\"color: #0087ff; text-decoration-color: #0087ff\">Dropout</span>)                  │ (<span style=\"color: #00d7ff; text-decoration-color: #00d7ff\">None</span>, <span style=\"color: #00af00; text-decoration-color: #00af00\">100</span>, <span style=\"color: #00af00; text-decoration-color: #00af00\">512</span>)            │               <span style=\"color: #00af00; text-decoration-color: #00af00\">0</span> │\n",
              "├──────────────────────────────────────┼─────────────────────────────┼─────────────────┤\n",
              "│ lstm_6 (<span style=\"color: #0087ff; text-decoration-color: #0087ff\">LSTM</span>)                        │ (<span style=\"color: #00d7ff; text-decoration-color: #00d7ff\">None</span>, <span style=\"color: #00af00; text-decoration-color: #00af00\">512</span>)                 │       <span style=\"color: #00af00; text-decoration-color: #00af00\">2,099,200</span> │\n",
              "├──────────────────────────────────────┼─────────────────────────────┼─────────────────┤\n",
              "│ dropout_7 (<span style=\"color: #0087ff; text-decoration-color: #0087ff\">Dropout</span>)                  │ (<span style=\"color: #00d7ff; text-decoration-color: #00d7ff\">None</span>, <span style=\"color: #00af00; text-decoration-color: #00af00\">512</span>)                 │               <span style=\"color: #00af00; text-decoration-color: #00af00\">0</span> │\n",
              "├──────────────────────────────────────┼─────────────────────────────┼─────────────────┤\n",
              "│ dense_4 (<span style=\"color: #0087ff; text-decoration-color: #0087ff\">Dense</span>)                      │ (<span style=\"color: #00d7ff; text-decoration-color: #00d7ff\">None</span>, <span style=\"color: #00af00; text-decoration-color: #00af00\">256</span>)                 │         <span style=\"color: #00af00; text-decoration-color: #00af00\">131,328</span> │\n",
              "├──────────────────────────────────────┼─────────────────────────────┼─────────────────┤\n",
              "│ activation_2 (<span style=\"color: #0087ff; text-decoration-color: #0087ff\">Activation</span>)            │ (<span style=\"color: #00d7ff; text-decoration-color: #00d7ff\">None</span>, <span style=\"color: #00af00; text-decoration-color: #00af00\">256</span>)                 │               <span style=\"color: #00af00; text-decoration-color: #00af00\">0</span> │\n",
              "├──────────────────────────────────────┼─────────────────────────────┼─────────────────┤\n",
              "│ dropout_8 (<span style=\"color: #0087ff; text-decoration-color: #0087ff\">Dropout</span>)                  │ (<span style=\"color: #00d7ff; text-decoration-color: #00d7ff\">None</span>, <span style=\"color: #00af00; text-decoration-color: #00af00\">256</span>)                 │               <span style=\"color: #00af00; text-decoration-color: #00af00\">0</span> │\n",
              "├──────────────────────────────────────┼─────────────────────────────┼─────────────────┤\n",
              "│ dense_5 (<span style=\"color: #0087ff; text-decoration-color: #0087ff\">Dense</span>)                      │ (<span style=\"color: #00d7ff; text-decoration-color: #00d7ff\">None</span>, <span style=\"color: #00af00; text-decoration-color: #00af00\">100</span>)                 │          <span style=\"color: #00af00; text-decoration-color: #00af00\">25,700</span> │\n",
              "├──────────────────────────────────────┼─────────────────────────────┼─────────────────┤\n",
              "│ activation_3 (<span style=\"color: #0087ff; text-decoration-color: #0087ff\">Activation</span>)            │ (<span style=\"color: #00d7ff; text-decoration-color: #00d7ff\">None</span>, <span style=\"color: #00af00; text-decoration-color: #00af00\">100</span>)                 │               <span style=\"color: #00af00; text-decoration-color: #00af00\">0</span> │\n",
              "└──────────────────────────────────────┴─────────────────────────────┴─────────────────┘\n",
              "</pre>\n"
            ],
            "text/plain": [
              "┏━━━━━━━━━━━━━━━━━━━━━━━━━━━━━━━━━━━━━━┳━━━━━━━━━━━━━━━━━━━━━━━━━━━━━┳━━━━━━━━━━━━━━━━━┓\n",
              "┃\u001b[1m \u001b[0m\u001b[1mLayer (type)                        \u001b[0m\u001b[1m \u001b[0m┃\u001b[1m \u001b[0m\u001b[1mOutput Shape               \u001b[0m\u001b[1m \u001b[0m┃\u001b[1m \u001b[0m\u001b[1m        Param #\u001b[0m\u001b[1m \u001b[0m┃\n",
              "┡━━━━━━━━━━━━━━━━━━━━━━━━━━━━━━━━━━━━━━╇━━━━━━━━━━━━━━━━━━━━━━━━━━━━━╇━━━━━━━━━━━━━━━━━┩\n",
              "│ lstm_5 (\u001b[38;5;33mLSTM\u001b[0m)                        │ (\u001b[38;5;45mNone\u001b[0m, \u001b[38;5;34m100\u001b[0m, \u001b[38;5;34m512\u001b[0m)            │       \u001b[38;5;34m1,052,672\u001b[0m │\n",
              "├──────────────────────────────────────┼─────────────────────────────┼─────────────────┤\n",
              "│ dropout_6 (\u001b[38;5;33mDropout\u001b[0m)                  │ (\u001b[38;5;45mNone\u001b[0m, \u001b[38;5;34m100\u001b[0m, \u001b[38;5;34m512\u001b[0m)            │               \u001b[38;5;34m0\u001b[0m │\n",
              "├──────────────────────────────────────┼─────────────────────────────┼─────────────────┤\n",
              "│ lstm_6 (\u001b[38;5;33mLSTM\u001b[0m)                        │ (\u001b[38;5;45mNone\u001b[0m, \u001b[38;5;34m512\u001b[0m)                 │       \u001b[38;5;34m2,099,200\u001b[0m │\n",
              "├──────────────────────────────────────┼─────────────────────────────┼─────────────────┤\n",
              "│ dropout_7 (\u001b[38;5;33mDropout\u001b[0m)                  │ (\u001b[38;5;45mNone\u001b[0m, \u001b[38;5;34m512\u001b[0m)                 │               \u001b[38;5;34m0\u001b[0m │\n",
              "├──────────────────────────────────────┼─────────────────────────────┼─────────────────┤\n",
              "│ dense_4 (\u001b[38;5;33mDense\u001b[0m)                      │ (\u001b[38;5;45mNone\u001b[0m, \u001b[38;5;34m256\u001b[0m)                 │         \u001b[38;5;34m131,328\u001b[0m │\n",
              "├──────────────────────────────────────┼─────────────────────────────┼─────────────────┤\n",
              "│ activation_2 (\u001b[38;5;33mActivation\u001b[0m)            │ (\u001b[38;5;45mNone\u001b[0m, \u001b[38;5;34m256\u001b[0m)                 │               \u001b[38;5;34m0\u001b[0m │\n",
              "├──────────────────────────────────────┼─────────────────────────────┼─────────────────┤\n",
              "│ dropout_8 (\u001b[38;5;33mDropout\u001b[0m)                  │ (\u001b[38;5;45mNone\u001b[0m, \u001b[38;5;34m256\u001b[0m)                 │               \u001b[38;5;34m0\u001b[0m │\n",
              "├──────────────────────────────────────┼─────────────────────────────┼─────────────────┤\n",
              "│ dense_5 (\u001b[38;5;33mDense\u001b[0m)                      │ (\u001b[38;5;45mNone\u001b[0m, \u001b[38;5;34m100\u001b[0m)                 │          \u001b[38;5;34m25,700\u001b[0m │\n",
              "├──────────────────────────────────────┼─────────────────────────────┼─────────────────┤\n",
              "│ activation_3 (\u001b[38;5;33mActivation\u001b[0m)            │ (\u001b[38;5;45mNone\u001b[0m, \u001b[38;5;34m100\u001b[0m)                 │               \u001b[38;5;34m0\u001b[0m │\n",
              "└──────────────────────────────────────┴─────────────────────────────┴─────────────────┘\n"
            ]
          },
          "metadata": {},
          "output_type": "display_data"
        },
        {
          "data": {
            "text/html": [
              "<pre style=\"white-space:pre;overflow-x:auto;line-height:normal;font-family:Menlo,'DejaVu Sans Mono',consolas,'Courier New',monospace\"><span style=\"font-weight: bold\"> Total params: </span><span style=\"color: #00af00; text-decoration-color: #00af00\">3,308,900</span> (12.62 MB)\n",
              "</pre>\n"
            ],
            "text/plain": [
              "\u001b[1m Total params: \u001b[0m\u001b[38;5;34m3,308,900\u001b[0m (12.62 MB)\n"
            ]
          },
          "metadata": {},
          "output_type": "display_data"
        },
        {
          "data": {
            "text/html": [
              "<pre style=\"white-space:pre;overflow-x:auto;line-height:normal;font-family:Menlo,'DejaVu Sans Mono',consolas,'Courier New',monospace\"><span style=\"font-weight: bold\"> Trainable params: </span><span style=\"color: #00af00; text-decoration-color: #00af00\">3,308,900</span> (12.62 MB)\n",
              "</pre>\n"
            ],
            "text/plain": [
              "\u001b[1m Trainable params: \u001b[0m\u001b[38;5;34m3,308,900\u001b[0m (12.62 MB)\n"
            ]
          },
          "metadata": {},
          "output_type": "display_data"
        },
        {
          "data": {
            "text/html": [
              "<pre style=\"white-space:pre;overflow-x:auto;line-height:normal;font-family:Menlo,'DejaVu Sans Mono',consolas,'Courier New',monospace\"><span style=\"font-weight: bold\"> Non-trainable params: </span><span style=\"color: #00af00; text-decoration-color: #00af00\">0</span> (0.00 B)\n",
              "</pre>\n"
            ],
            "text/plain": [
              "\u001b[1m Non-trainable params: \u001b[0m\u001b[38;5;34m0\u001b[0m (0.00 B)\n"
            ]
          },
          "metadata": {},
          "output_type": "display_data"
        },
        {
          "name": "stdout",
          "output_type": "stream",
          "text": [
            "Epoch 1/2\n",
            "\u001b[1m41/41\u001b[0m \u001b[32m━━━━━━━━━━━━━━━━━━━━\u001b[0m\u001b[37m\u001b[0m \u001b[1m223s\u001b[0m 5s/step - loss: 4.2814 - val_loss: 3.9244\n",
            "Epoch 2/2\n",
            "\u001b[1m41/41\u001b[0m \u001b[32m━━━━━━━━━━━━━━━━━━━━\u001b[0m\u001b[37m\u001b[0m \u001b[1m263s\u001b[0m 5s/step - loss: 3.9678 - val_loss: 3.8963\n"
          ]
        },
        {
          "name": "stderr",
          "output_type": "stream",
          "text": [
            "WARNING:absl:You are saving your model as an HDF5 file via `model.save()` or `keras.saving.save_model(model)`. This file format is considered legacy. We recommend using instead the native Keras format, e.g. `model.save('my_model.keras')` or `keras.saving.save_model(model, 'my_model.keras')`. \n"
          ]
        }
      ],
      "source": [
        "from tensorflow.keras.models import Sequential\n",
        "from tensorflow.keras.layers import LSTM, Dropout, Dense, Activation\n",
        "\n",
        "model = Sequential()\n",
        "model.add(LSTM(512, input_shape=(SEQUENCE_LENGTH, 1), return_sequences=True))\n",
        "model.add(Dropout(0.3))\n",
        "model.add(LSTM(512))\n",
        "model.add(Dropout(0.3))\n",
        "model.add(Dense(256))\n",
        "model.add(Activation('relu'))\n",
        "model.add(Dropout(0.3))\n",
        "model.add(Dense(len(unique_notes)))\n",
        "model.add(Activation('softmax'))\n",
        "\n",
        "model.compile(loss='categorical_crossentropy', optimizer='adam')\n",
        "model.summary()\n",
        "\n",
        "# Train the model\n",
        "history = model.fit(X_train, y_train, epochs=2, batch_size=64, validation_data=(X_test, y_test))\n",
        "model.save('music_model.h5')\n"
      ]
    },
    {
      "cell_type": "code",
      "execution_count": null,
      "metadata": {
        "colab": {
          "base_uri": "https://localhost:8080/",
          "height": 72
        },
        "id": "DVECmLJjwlk9",
        "outputId": "2055c68a-52fa-4f41-ac3a-11eb81437dba"
      },
      "outputs": [],
      "source": [
        "from tensorflow.keras.models import load_model\n",
        "\n",
        "model = load_model('music_model.h5')\n",
        "\n",
        "def generate_music(model, start_sequence, num_notes):\n",
        "    int_to_note = {number: note for note, number in note_to_int.items()}\n",
        "    generated_notes = start_sequence\n",
        "\n",
        "    for i in range(num_notes):\n",
        "        input_sequence = np.reshape(generated_notes[-SEQUENCE_LENGTH:], (1, SEQUENCE_LENGTH, 1))\n",
        "        input_sequence = input_sequence / len(unique_notes)\n",
        "        prediction = model.predict(input_sequence, verbose=0)\n",
        "        index = np.argmax(prediction)\n",
        "        result = int_to_note[index]\n",
        "        generated_notes.append(index)\n",
        "\n",
        "    return [int_to_note[i] for i in generated_notes]\n",
        "\n",
        "# Starting sequence\n",
        "start_sequence = [note_to_int[note] for note in all_notes[:SEQUENCE_LENGTH]]\n",
        "generated_notes = generate_music(model, start_sequence, 500)\n",
        "\n",
        "# Convert generated notes to MIDI\n",
        "output_notes = []\n",
        "for pattern in generated_notes:\n",
        "    if ('.' in pattern) or pattern.isdigit():\n",
        "        chord_notes = pattern.split('.')\n",
        "        notes = [music21.note.Note(int(n)) for n in chord_notes]\n",
        "        chord = music21.chord.Chord(notes)\n",
        "        output_notes.append(chord)\n",
        "    else:\n",
        "        note = music21.note.Note(pattern)\n",
        "        output_notes.append(note)\n",
        "\n",
        "midi_stream = music21.stream.Stream(output_notes)\n",
        "midi_stream.write('midi', fp='generated_music.mid')\n"
      ]
    },
    {
      "cell_type": "code",
      "execution_count": null,
      "metadata": {
        "colab": {
          "base_uri": "https://localhost:8080/",
          "height": 645
        },
        "id": "Shj68T4by4VA",
        "outputId": "d449bde5-21ac-4de8-a564-257038574982"
      },
      "outputs": [],
      "source": [
        "import gradio as gr\n",
        "\n",
        "def generate_music_interface(num_notes):\n",
        "    generated_notes = generate_music(model, start_sequence, num_notes)\n",
        "    output_notes = []\n",
        "    for pattern in generated_notes:\n",
        "        if ('.' in pattern) or pattern.isdigit():\n",
        "            chord_notes = pattern.split('.')\n",
        "            notes = [music21.note.Note(int(n)) for n in chord_notes]\n",
        "            chord = music21.chord.Chord(notes)\n",
        "            output_notes.append(chord)\n",
        "        else:\n",
        "            note = music21.note.Note(pattern)\n",
        "            output_notes.append(note)\n",
        "\n",
        "    midi_stream = music21.stream.Stream(output_notes)\n",
        "    midi_stream.write('midi', fp='generated_music_output.mid')\n",
        "\n",
        "    return 'generated_music_output.mid'\n",
        "\n",
        "interface = gr.Interface(fn=generate_music_interface, inputs=\"slider\", outputs=\"file\", description=\"Generate AI Music\")\n",
        "interface.launch()\n"
      ]
    },
    {
      "cell_type": "code",
      "execution_count": null,
      "metadata": {
        "id": "yAGGytVYzTnP"
      },
      "outputs": [],
      "source": []
    }
  ],
  "metadata": {
    "colab": {
      "provenance": []
    },
    "kernelspec": {
      "display_name": "Python 3",
      "name": "python3"
    },
    "language_info": {
      "name": "python"
    }
  },
  "nbformat": 4,
  "nbformat_minor": 0
}
